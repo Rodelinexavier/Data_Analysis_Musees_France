{
 "cells": [
  {
   "cell_type": "code",
   "execution_count": 656,
   "id": "c390be0b",
   "metadata": {},
   "outputs": [],
   "source": [
    "import pandas as pd\n",
    "import warnings\n",
    "import seaborn as sns\n",
    "import numpy as np\n",
    "warnings.filterwarnings(\"ignore\")"
   ]
  },
  {
   "cell_type": "code",
   "execution_count": 657,
   "id": "8c9723a7",
   "metadata": {},
   "outputs": [
    {
     "data": {
      "text/html": [
       "<div>\n",
       "<style scoped>\n",
       "    .dataframe tbody tr th:only-of-type {\n",
       "        vertical-align: middle;\n",
       "    }\n",
       "\n",
       "    .dataframe tbody tr th {\n",
       "        vertical-align: top;\n",
       "    }\n",
       "\n",
       "    .dataframe thead th {\n",
       "        text-align: right;\n",
       "    }\n",
       "</style>\n",
       "<table border=\"1\" class=\"dataframe\">\n",
       "  <thead>\n",
       "    <tr style=\"text-align: right;\">\n",
       "      <th></th>\n",
       "      <th>osm_id</th>\n",
       "      <th>name</th>\n",
       "      <th>number</th>\n",
       "      <th>street</th>\n",
       "      <th>postal_code</th>\n",
       "      <th>city</th>\n",
       "      <th>country</th>\n",
       "      <th>country_code</th>\n",
       "      <th>lat</th>\n",
       "      <th>lon</th>\n",
       "      <th>website</th>\n",
       "      <th>email</th>\n",
       "      <th>phone</th>\n",
       "      <th>fax</th>\n",
       "      <th>tags</th>\n",
       "      <th>description</th>\n",
       "      <th>date_added</th>\n",
       "      <th>wikidata</th>\n",
       "    </tr>\n",
       "  </thead>\n",
       "  <tbody>\n",
       "    <tr>\n",
       "      <th>0</th>\n",
       "      <td>4540234591</td>\n",
       "      <td>3 bis f</td>\n",
       "      <td>109</td>\n",
       "      <td>Avenue du Petit Barthélémy</td>\n",
       "      <td>13617.0</td>\n",
       "      <td>Aix-en-Provence</td>\n",
       "      <td>France</td>\n",
       "      <td>fr</td>\n",
       "      <td>43.521207</td>\n",
       "      <td>5.439875</td>\n",
       "      <td>http://www.3bisf.com</td>\n",
       "      <td>contact@3bisf.com</td>\n",
       "      <td>33442161775</td>\n",
       "      <td>NaN</td>\n",
       "      <td>osm:museum;art:art contemporain</td>\n",
       "      <td>NaN</td>\n",
       "      <td>44116,00764</td>\n",
       "      <td>NaN</td>\n",
       "    </tr>\n",
       "    <tr>\n",
       "      <th>1</th>\n",
       "      <td>4388745689</td>\n",
       "      <td>A casa di Losari</td>\n",
       "      <td>NaN</td>\n",
       "      <td>T 30</td>\n",
       "      <td>20226.0</td>\n",
       "      <td>Belgodère</td>\n",
       "      <td>France</td>\n",
       "      <td>fr</td>\n",
       "      <td>42.638732</td>\n",
       "      <td>9.007660</td>\n",
       "      <td>NaN</td>\n",
       "      <td>NaN</td>\n",
       "      <td>NaN</td>\n",
       "      <td>NaN</td>\n",
       "      <td>osm:museum</td>\n",
       "      <td>NaN</td>\n",
       "      <td>43338,9394</td>\n",
       "      <td>NaN</td>\n",
       "    </tr>\n",
       "    <tr>\n",
       "      <th>2</th>\n",
       "      <td>4426176194</td>\n",
       "      <td>À l'homme volant</td>\n",
       "      <td>35</td>\n",
       "      <td>Grande Rue</td>\n",
       "      <td>72300.0</td>\n",
       "      <td>Sablé-sur-Sarthe</td>\n",
       "      <td>France</td>\n",
       "      <td>fr</td>\n",
       "      <td>47.839656</td>\n",
       "      <td>-0.334043</td>\n",
       "      <td>NaN</td>\n",
       "      <td>NaN</td>\n",
       "      <td>33243950736</td>\n",
       "      <td>NaN</td>\n",
       "      <td>osm:museum;type:centre d'interpretation</td>\n",
       "      <td>NaN</td>\n",
       "      <td>42644,46366</td>\n",
       "      <td>NaN</td>\n",
       "    </tr>\n",
       "    <tr>\n",
       "      <th>3</th>\n",
       "      <td>7652598615</td>\n",
       "      <td>Abbadiale - Maison des arts</td>\n",
       "      <td>NaN</td>\n",
       "      <td>Rue du Gabizos</td>\n",
       "      <td>65400.0</td>\n",
       "      <td>Arras-en-Lavedan</td>\n",
       "      <td>France</td>\n",
       "      <td>fr</td>\n",
       "      <td>42.990826</td>\n",
       "      <td>-0.128057</td>\n",
       "      <td>https://www.abbadiale.fr/</td>\n",
       "      <td>NaN</td>\n",
       "      <td>33633170714</td>\n",
       "      <td>NaN</td>\n",
       "      <td>osm:museum</td>\n",
       "      <td>NaN</td>\n",
       "      <td>44120,04668</td>\n",
       "      <td>NaN</td>\n",
       "    </tr>\n",
       "    <tr>\n",
       "      <th>4</th>\n",
       "      <td>121580330</td>\n",
       "      <td>Abbaye</td>\n",
       "      <td>NaN</td>\n",
       "      <td>Rue de l'Abbaye</td>\n",
       "      <td>39210.0</td>\n",
       "      <td>Château-Chalon</td>\n",
       "      <td>France</td>\n",
       "      <td>fr</td>\n",
       "      <td>46.753866</td>\n",
       "      <td>5.624296</td>\n",
       "      <td>NaN</td>\n",
       "      <td>NaN</td>\n",
       "      <td>NaN</td>\n",
       "      <td>NaN</td>\n",
       "      <td>osm:museum;art:architecture</td>\n",
       "      <td>NaN</td>\n",
       "      <td>43102,54919</td>\n",
       "      <td>NaN</td>\n",
       "    </tr>\n",
       "  </tbody>\n",
       "</table>\n",
       "</div>"
      ],
      "text/plain": [
       "       osm_id                         name number                      street  \\\n",
       "0  4540234591                      3 bis f    109  Avenue du Petit Barthélémy   \n",
       "1  4388745689             A casa di Losari    NaN                        T 30   \n",
       "2  4426176194             À l'homme volant     35                  Grande Rue   \n",
       "3  7652598615  Abbadiale - Maison des arts    NaN              Rue du Gabizos   \n",
       "4   121580330                       Abbaye    NaN             Rue de l'Abbaye   \n",
       "\n",
       "   postal_code              city country country_code        lat       lon  \\\n",
       "0      13617.0   Aix-en-Provence  France           fr  43.521207  5.439875   \n",
       "1      20226.0         Belgodère  France           fr  42.638732  9.007660   \n",
       "2      72300.0  Sablé-sur-Sarthe  France           fr  47.839656 -0.334043   \n",
       "3      65400.0  Arras-en-Lavedan  France           fr  42.990826 -0.128057   \n",
       "4      39210.0    Château-Chalon  France           fr  46.753866  5.624296   \n",
       "\n",
       "                     website              email        phone  fax  \\\n",
       "0       http://www.3bisf.com  contact@3bisf.com  33442161775  NaN   \n",
       "1                        NaN                NaN          NaN  NaN   \n",
       "2                        NaN                NaN  33243950736  NaN   \n",
       "3  https://www.abbadiale.fr/                NaN  33633170714  NaN   \n",
       "4                        NaN                NaN          NaN  NaN   \n",
       "\n",
       "                                      tags description   date_added wikidata  \n",
       "0          osm:museum;art:art contemporain         NaN  44116,00764      NaN  \n",
       "1                               osm:museum         NaN   43338,9394      NaN  \n",
       "2  osm:museum;type:centre d'interpretation         NaN  42644,46366      NaN  \n",
       "3                               osm:museum         NaN  44120,04668      NaN  \n",
       "4              osm:museum;art:architecture         NaN  43102,54919      NaN  "
      ]
     },
     "execution_count": 657,
     "metadata": {},
     "output_type": "execute_result"
    }
   ],
   "source": [
    "df = pd.read_csv('liste-des-musees-de-france-2021.csv',error_bad_lines=False,encoding='latin-1',sep=';')\n",
    "df.head()"
   ]
  },
  {
   "cell_type": "code",
   "execution_count": 658,
   "id": "4c41ad44",
   "metadata": {},
   "outputs": [
    {
     "data": {
      "text/plain": [
       "(3784, 18)"
      ]
     },
     "execution_count": 658,
     "metadata": {},
     "output_type": "execute_result"
    }
   ],
   "source": [
    "# Rows and Columns\n",
    "df.shape"
   ]
  },
  {
   "cell_type": "code",
   "execution_count": 659,
   "id": "8f822ba2",
   "metadata": {},
   "outputs": [
    {
     "name": "stdout",
     "output_type": "stream",
     "text": [
      "<class 'pandas.core.frame.DataFrame'>\n",
      "RangeIndex: 3784 entries, 0 to 3783\n",
      "Data columns (total 18 columns):\n",
      " #   Column        Non-Null Count  Dtype  \n",
      "---  ------        --------------  -----  \n",
      " 0   osm_id        3784 non-null   int64  \n",
      " 1   name          3784 non-null   object \n",
      " 2   number        743 non-null    object \n",
      " 3   street        3771 non-null   object \n",
      " 4   postal_code   3728 non-null   float64\n",
      " 5   city          3782 non-null   object \n",
      " 6   country       3784 non-null   object \n",
      " 7   country_code  3784 non-null   object \n",
      " 8   lat           3784 non-null   float64\n",
      " 9   lon           3784 non-null   float64\n",
      " 10  website       1636 non-null   object \n",
      " 11  email         301 non-null    object \n",
      " 12  phone         1211 non-null   object \n",
      " 13  fax           0 non-null      float64\n",
      " 14  tags          3782 non-null   object \n",
      " 15  description   226 non-null    object \n",
      " 16  date_added    3775 non-null   object \n",
      " 17  wikidata      1147 non-null   object \n",
      "dtypes: float64(4), int64(1), object(13)\n",
      "memory usage: 532.2+ KB\n"
     ]
    }
   ],
   "source": [
    "df.info()"
   ]
  },
  {
   "cell_type": "code",
   "execution_count": 660,
   "id": "236565db",
   "metadata": {},
   "outputs": [],
   "source": [
    "#Basics stats"
   ]
  },
  {
   "cell_type": "code",
   "execution_count": 661,
   "id": "b26709a9",
   "metadata": {},
   "outputs": [
    {
     "data": {
      "text/html": [
       "<div>\n",
       "<style scoped>\n",
       "    .dataframe tbody tr th:only-of-type {\n",
       "        vertical-align: middle;\n",
       "    }\n",
       "\n",
       "    .dataframe tbody tr th {\n",
       "        vertical-align: top;\n",
       "    }\n",
       "\n",
       "    .dataframe thead th {\n",
       "        text-align: right;\n",
       "    }\n",
       "</style>\n",
       "<table border=\"1\" class=\"dataframe\">\n",
       "  <thead>\n",
       "    <tr style=\"text-align: right;\">\n",
       "      <th></th>\n",
       "      <th>osm_id</th>\n",
       "      <th>name</th>\n",
       "      <th>number</th>\n",
       "      <th>street</th>\n",
       "      <th>postal_code</th>\n",
       "      <th>city</th>\n",
       "      <th>country</th>\n",
       "      <th>country_code</th>\n",
       "      <th>lat</th>\n",
       "      <th>lon</th>\n",
       "      <th>website</th>\n",
       "      <th>email</th>\n",
       "      <th>phone</th>\n",
       "      <th>fax</th>\n",
       "      <th>tags</th>\n",
       "      <th>description</th>\n",
       "      <th>date_added</th>\n",
       "      <th>wikidata</th>\n",
       "    </tr>\n",
       "  </thead>\n",
       "  <tbody>\n",
       "    <tr>\n",
       "      <th>count</th>\n",
       "      <td>3.784000e+03</td>\n",
       "      <td>3784</td>\n",
       "      <td>743</td>\n",
       "      <td>3771</td>\n",
       "      <td>3728.000000</td>\n",
       "      <td>3782</td>\n",
       "      <td>3784</td>\n",
       "      <td>3784</td>\n",
       "      <td>3784.000000</td>\n",
       "      <td>3784.000000</td>\n",
       "      <td>1636</td>\n",
       "      <td>301</td>\n",
       "      <td>1211</td>\n",
       "      <td>0.0</td>\n",
       "      <td>3782</td>\n",
       "      <td>226</td>\n",
       "      <td>3775</td>\n",
       "      <td>1147</td>\n",
       "    </tr>\n",
       "    <tr>\n",
       "      <th>unique</th>\n",
       "      <td>NaN</td>\n",
       "      <td>3466</td>\n",
       "      <td>196</td>\n",
       "      <td>2932</td>\n",
       "      <td>NaN</td>\n",
       "      <td>2295</td>\n",
       "      <td>2</td>\n",
       "      <td>2</td>\n",
       "      <td>NaN</td>\n",
       "      <td>NaN</td>\n",
       "      <td>1585</td>\n",
       "      <td>295</td>\n",
       "      <td>1163</td>\n",
       "      <td>NaN</td>\n",
       "      <td>119</td>\n",
       "      <td>206</td>\n",
       "      <td>3331</td>\n",
       "      <td>1133</td>\n",
       "    </tr>\n",
       "    <tr>\n",
       "      <th>top</th>\n",
       "      <td>NaN</td>\n",
       "      <td>Musée des Beaux-Arts</td>\n",
       "      <td>1</td>\n",
       "      <td>Grande Rue</td>\n",
       "      <td>NaN</td>\n",
       "      <td>Paris</td>\n",
       "      <td>France</td>\n",
       "      <td>fr</td>\n",
       "      <td>NaN</td>\n",
       "      <td>NaN</td>\n",
       "      <td>http://www.ville-orleans.fr</td>\n",
       "      <td>musees@ville.angers.fr</td>\n",
       "      <td>33325868686</td>\n",
       "      <td>NaN</td>\n",
       "      <td>osm:museum</td>\n",
       "      <td>Ecomusée</td>\n",
       "      <td>43940,5849</td>\n",
       "      <td>Q3329951</td>\n",
       "    </tr>\n",
       "    <tr>\n",
       "      <th>freq</th>\n",
       "      <td>NaN</td>\n",
       "      <td>23</td>\n",
       "      <td>73</td>\n",
       "      <td>34</td>\n",
       "      <td>NaN</td>\n",
       "      <td>175</td>\n",
       "      <td>3776</td>\n",
       "      <td>3776</td>\n",
       "      <td>NaN</td>\n",
       "      <td>NaN</td>\n",
       "      <td>4</td>\n",
       "      <td>3</td>\n",
       "      <td>4</td>\n",
       "      <td>NaN</td>\n",
       "      <td>2175</td>\n",
       "      <td>19</td>\n",
       "      <td>76</td>\n",
       "      <td>2</td>\n",
       "    </tr>\n",
       "    <tr>\n",
       "      <th>mean</th>\n",
       "      <td>2.193306e+09</td>\n",
       "      <td>NaN</td>\n",
       "      <td>NaN</td>\n",
       "      <td>NaN</td>\n",
       "      <td>48499.273069</td>\n",
       "      <td>NaN</td>\n",
       "      <td>NaN</td>\n",
       "      <td>NaN</td>\n",
       "      <td>46.531075</td>\n",
       "      <td>2.724237</td>\n",
       "      <td>NaN</td>\n",
       "      <td>NaN</td>\n",
       "      <td>NaN</td>\n",
       "      <td>NaN</td>\n",
       "      <td>NaN</td>\n",
       "      <td>NaN</td>\n",
       "      <td>NaN</td>\n",
       "      <td>NaN</td>\n",
       "    </tr>\n",
       "    <tr>\n",
       "      <th>std</th>\n",
       "      <td>2.521168e+09</td>\n",
       "      <td>NaN</td>\n",
       "      <td>NaN</td>\n",
       "      <td>NaN</td>\n",
       "      <td>27982.341434</td>\n",
       "      <td>NaN</td>\n",
       "      <td>NaN</td>\n",
       "      <td>NaN</td>\n",
       "      <td>2.234572</td>\n",
       "      <td>2.897485</td>\n",
       "      <td>NaN</td>\n",
       "      <td>NaN</td>\n",
       "      <td>NaN</td>\n",
       "      <td>NaN</td>\n",
       "      <td>NaN</td>\n",
       "      <td>NaN</td>\n",
       "      <td>NaN</td>\n",
       "      <td>NaN</td>\n",
       "    </tr>\n",
       "    <tr>\n",
       "      <th>min</th>\n",
       "      <td>5.107373e+06</td>\n",
       "      <td>NaN</td>\n",
       "      <td>NaN</td>\n",
       "      <td>NaN</td>\n",
       "      <td>1000.000000</td>\n",
       "      <td>NaN</td>\n",
       "      <td>NaN</td>\n",
       "      <td>NaN</td>\n",
       "      <td>41.498794</td>\n",
       "      <td>-5.129406</td>\n",
       "      <td>NaN</td>\n",
       "      <td>NaN</td>\n",
       "      <td>NaN</td>\n",
       "      <td>NaN</td>\n",
       "      <td>NaN</td>\n",
       "      <td>NaN</td>\n",
       "      <td>NaN</td>\n",
       "      <td>NaN</td>\n",
       "    </tr>\n",
       "    <tr>\n",
       "      <th>25%</th>\n",
       "      <td>1.451896e+08</td>\n",
       "      <td>NaN</td>\n",
       "      <td>NaN</td>\n",
       "      <td>NaN</td>\n",
       "      <td>25582.500000</td>\n",
       "      <td>NaN</td>\n",
       "      <td>NaN</td>\n",
       "      <td>NaN</td>\n",
       "      <td>44.542494</td>\n",
       "      <td>0.570318</td>\n",
       "      <td>NaN</td>\n",
       "      <td>NaN</td>\n",
       "      <td>NaN</td>\n",
       "      <td>NaN</td>\n",
       "      <td>NaN</td>\n",
       "      <td>NaN</td>\n",
       "      <td>NaN</td>\n",
       "      <td>NaN</td>\n",
       "    </tr>\n",
       "    <tr>\n",
       "      <th>50%</th>\n",
       "      <td>8.226927e+08</td>\n",
       "      <td>NaN</td>\n",
       "      <td>NaN</td>\n",
       "      <td>NaN</td>\n",
       "      <td>49730.000000</td>\n",
       "      <td>NaN</td>\n",
       "      <td>NaN</td>\n",
       "      <td>NaN</td>\n",
       "      <td>46.513252</td>\n",
       "      <td>2.563655</td>\n",
       "      <td>NaN</td>\n",
       "      <td>NaN</td>\n",
       "      <td>NaN</td>\n",
       "      <td>NaN</td>\n",
       "      <td>NaN</td>\n",
       "      <td>NaN</td>\n",
       "      <td>NaN</td>\n",
       "      <td>NaN</td>\n",
       "    </tr>\n",
       "    <tr>\n",
       "      <th>75%</th>\n",
       "      <td>3.982632e+09</td>\n",
       "      <td>NaN</td>\n",
       "      <td>NaN</td>\n",
       "      <td>NaN</td>\n",
       "      <td>71570.000000</td>\n",
       "      <td>NaN</td>\n",
       "      <td>NaN</td>\n",
       "      <td>NaN</td>\n",
       "      <td>48.639156</td>\n",
       "      <td>4.984839</td>\n",
       "      <td>NaN</td>\n",
       "      <td>NaN</td>\n",
       "      <td>NaN</td>\n",
       "      <td>NaN</td>\n",
       "      <td>NaN</td>\n",
       "      <td>NaN</td>\n",
       "      <td>NaN</td>\n",
       "      <td>NaN</td>\n",
       "    </tr>\n",
       "    <tr>\n",
       "      <th>max</th>\n",
       "      <td>8.394269e+09</td>\n",
       "      <td>NaN</td>\n",
       "      <td>NaN</td>\n",
       "      <td>NaN</td>\n",
       "      <td>590007.000000</td>\n",
       "      <td>NaN</td>\n",
       "      <td>NaN</td>\n",
       "      <td>NaN</td>\n",
       "      <td>51.053756</td>\n",
       "      <td>9.488302</td>\n",
       "      <td>NaN</td>\n",
       "      <td>NaN</td>\n",
       "      <td>NaN</td>\n",
       "      <td>NaN</td>\n",
       "      <td>NaN</td>\n",
       "      <td>NaN</td>\n",
       "      <td>NaN</td>\n",
       "      <td>NaN</td>\n",
       "    </tr>\n",
       "  </tbody>\n",
       "</table>\n",
       "</div>"
      ],
      "text/plain": [
       "              osm_id                  name number      street    postal_code  \\\n",
       "count   3.784000e+03                  3784    743        3771    3728.000000   \n",
       "unique           NaN                  3466    196        2932            NaN   \n",
       "top              NaN  Musée des Beaux-Arts      1  Grande Rue            NaN   \n",
       "freq             NaN                    23     73          34            NaN   \n",
       "mean    2.193306e+09                   NaN    NaN         NaN   48499.273069   \n",
       "std     2.521168e+09                   NaN    NaN         NaN   27982.341434   \n",
       "min     5.107373e+06                   NaN    NaN         NaN    1000.000000   \n",
       "25%     1.451896e+08                   NaN    NaN         NaN   25582.500000   \n",
       "50%     8.226927e+08                   NaN    NaN         NaN   49730.000000   \n",
       "75%     3.982632e+09                   NaN    NaN         NaN   71570.000000   \n",
       "max     8.394269e+09                   NaN    NaN         NaN  590007.000000   \n",
       "\n",
       "         city country country_code          lat          lon  \\\n",
       "count    3782    3784         3784  3784.000000  3784.000000   \n",
       "unique   2295       2            2          NaN          NaN   \n",
       "top     Paris  France           fr          NaN          NaN   \n",
       "freq      175    3776         3776          NaN          NaN   \n",
       "mean      NaN     NaN          NaN    46.531075     2.724237   \n",
       "std       NaN     NaN          NaN     2.234572     2.897485   \n",
       "min       NaN     NaN          NaN    41.498794    -5.129406   \n",
       "25%       NaN     NaN          NaN    44.542494     0.570318   \n",
       "50%       NaN     NaN          NaN    46.513252     2.563655   \n",
       "75%       NaN     NaN          NaN    48.639156     4.984839   \n",
       "max       NaN     NaN          NaN    51.053756     9.488302   \n",
       "\n",
       "                            website                   email        phone  fax  \\\n",
       "count                          1636                     301         1211  0.0   \n",
       "unique                         1585                     295         1163  NaN   \n",
       "top     http://www.ville-orleans.fr  musees@ville.angers.fr  33325868686  NaN   \n",
       "freq                              4                       3            4  NaN   \n",
       "mean                            NaN                     NaN          NaN  NaN   \n",
       "std                             NaN                     NaN          NaN  NaN   \n",
       "min                             NaN                     NaN          NaN  NaN   \n",
       "25%                             NaN                     NaN          NaN  NaN   \n",
       "50%                             NaN                     NaN          NaN  NaN   \n",
       "75%                             NaN                     NaN          NaN  NaN   \n",
       "max                             NaN                     NaN          NaN  NaN   \n",
       "\n",
       "              tags description  date_added  wikidata  \n",
       "count         3782         226        3775      1147  \n",
       "unique         119         206        3331      1133  \n",
       "top     osm:museum    Ecomusée  43940,5849  Q3329951  \n",
       "freq          2175          19          76         2  \n",
       "mean           NaN         NaN         NaN       NaN  \n",
       "std            NaN         NaN         NaN       NaN  \n",
       "min            NaN         NaN         NaN       NaN  \n",
       "25%            NaN         NaN         NaN       NaN  \n",
       "50%            NaN         NaN         NaN       NaN  \n",
       "75%            NaN         NaN         NaN       NaN  \n",
       "max            NaN         NaN         NaN       NaN  "
      ]
     },
     "execution_count": 661,
     "metadata": {},
     "output_type": "execute_result"
    }
   ],
   "source": [
    "df.describe(include=\"all\")"
   ]
  },
  {
   "cell_type": "code",
   "execution_count": 662,
   "id": "a3208ac3",
   "metadata": {},
   "outputs": [
    {
     "data": {
      "text/html": [
       "<div>\n",
       "<style scoped>\n",
       "    .dataframe tbody tr th:only-of-type {\n",
       "        vertical-align: middle;\n",
       "    }\n",
       "\n",
       "    .dataframe tbody tr th {\n",
       "        vertical-align: top;\n",
       "    }\n",
       "\n",
       "    .dataframe thead th {\n",
       "        text-align: right;\n",
       "    }\n",
       "</style>\n",
       "<table border=\"1\" class=\"dataframe\">\n",
       "  <thead>\n",
       "    <tr style=\"text-align: right;\">\n",
       "      <th></th>\n",
       "      <th>name</th>\n",
       "      <th>number</th>\n",
       "      <th>street</th>\n",
       "      <th>city</th>\n",
       "      <th>country</th>\n",
       "      <th>country_code</th>\n",
       "      <th>website</th>\n",
       "      <th>email</th>\n",
       "      <th>phone</th>\n",
       "      <th>tags</th>\n",
       "      <th>description</th>\n",
       "      <th>date_added</th>\n",
       "      <th>wikidata</th>\n",
       "    </tr>\n",
       "  </thead>\n",
       "  <tbody>\n",
       "    <tr>\n",
       "      <th>count</th>\n",
       "      <td>3784</td>\n",
       "      <td>743</td>\n",
       "      <td>3771</td>\n",
       "      <td>3782</td>\n",
       "      <td>3784</td>\n",
       "      <td>3784</td>\n",
       "      <td>1636</td>\n",
       "      <td>301</td>\n",
       "      <td>1211</td>\n",
       "      <td>3782</td>\n",
       "      <td>226</td>\n",
       "      <td>3775</td>\n",
       "      <td>1147</td>\n",
       "    </tr>\n",
       "    <tr>\n",
       "      <th>unique</th>\n",
       "      <td>3466</td>\n",
       "      <td>196</td>\n",
       "      <td>2932</td>\n",
       "      <td>2295</td>\n",
       "      <td>2</td>\n",
       "      <td>2</td>\n",
       "      <td>1585</td>\n",
       "      <td>295</td>\n",
       "      <td>1163</td>\n",
       "      <td>119</td>\n",
       "      <td>206</td>\n",
       "      <td>3331</td>\n",
       "      <td>1133</td>\n",
       "    </tr>\n",
       "    <tr>\n",
       "      <th>top</th>\n",
       "      <td>Musée des Beaux-Arts</td>\n",
       "      <td>1</td>\n",
       "      <td>Grande Rue</td>\n",
       "      <td>Paris</td>\n",
       "      <td>France</td>\n",
       "      <td>fr</td>\n",
       "      <td>http://www.ville-orleans.fr</td>\n",
       "      <td>musees@ville.angers.fr</td>\n",
       "      <td>33325868686</td>\n",
       "      <td>osm:museum</td>\n",
       "      <td>Ecomusée</td>\n",
       "      <td>43940,5849</td>\n",
       "      <td>Q3329951</td>\n",
       "    </tr>\n",
       "    <tr>\n",
       "      <th>freq</th>\n",
       "      <td>23</td>\n",
       "      <td>73</td>\n",
       "      <td>34</td>\n",
       "      <td>175</td>\n",
       "      <td>3776</td>\n",
       "      <td>3776</td>\n",
       "      <td>4</td>\n",
       "      <td>3</td>\n",
       "      <td>4</td>\n",
       "      <td>2175</td>\n",
       "      <td>19</td>\n",
       "      <td>76</td>\n",
       "      <td>2</td>\n",
       "    </tr>\n",
       "  </tbody>\n",
       "</table>\n",
       "</div>"
      ],
      "text/plain": [
       "                        name number      street   city country country_code  \\\n",
       "count                   3784    743        3771   3782    3784         3784   \n",
       "unique                  3466    196        2932   2295       2            2   \n",
       "top     Musée des Beaux-Arts      1  Grande Rue  Paris  France           fr   \n",
       "freq                      23     73          34    175    3776         3776   \n",
       "\n",
       "                            website                   email        phone  \\\n",
       "count                          1636                     301         1211   \n",
       "unique                         1585                     295         1163   \n",
       "top     http://www.ville-orleans.fr  musees@ville.angers.fr  33325868686   \n",
       "freq                              4                       3            4   \n",
       "\n",
       "              tags description  date_added  wikidata  \n",
       "count         3782         226        3775      1147  \n",
       "unique         119         206        3331      1133  \n",
       "top     osm:museum    Ecomusée  43940,5849  Q3329951  \n",
       "freq          2175          19          76         2  "
      ]
     },
     "execution_count": 662,
     "metadata": {},
     "output_type": "execute_result"
    }
   ],
   "source": [
    "# Basics stats for the object variables\n",
    "df.describe(include=object)"
   ]
  },
  {
   "cell_type": "markdown",
   "id": "80428799",
   "metadata": {},
   "source": [
    "#### 1.-Combien y-a-t-il de musées en France métropolitaine ?"
   ]
  },
  {
   "cell_type": "code",
   "execution_count": 663,
   "id": "8bf1dfab",
   "metadata": {},
   "outputs": [
    {
     "data": {
      "text/plain": [
       "3784"
      ]
     },
     "execution_count": 663,
     "metadata": {},
     "output_type": "execute_result"
    }
   ],
   "source": [
    "df[\"name\"].value_counts().sum()"
   ]
  },
  {
   "cell_type": "code",
   "execution_count": 664,
   "id": "ae949fa8",
   "metadata": {},
   "outputs": [
    {
     "data": {
      "text/plain": [
       "1636"
      ]
     },
     "execution_count": 664,
     "metadata": {},
     "output_type": "execute_result"
    }
   ],
   "source": [
    "df[\"website\"].value_counts().sum()"
   ]
  },
  {
   "cell_type": "code",
   "execution_count": 665,
   "id": "682ce0da",
   "metadata": {},
   "outputs": [
    {
     "data": {
      "text/plain": [
       "3784"
      ]
     },
     "execution_count": 665,
     "metadata": {},
     "output_type": "execute_result"
    }
   ],
   "source": [
    "len(df[\"name\"])"
   ]
  },
  {
   "cell_type": "markdown",
   "id": "e62a3642",
   "metadata": {},
   "source": [
    "* La France métropolitaine compte 3784 musées."
   ]
  },
  {
   "cell_type": "markdown",
   "id": "ae5acdb5",
   "metadata": {},
   "source": [
    "#### 2.-Dans quelle(s) ville(s) y-a-t-il de plus de musées ?"
   ]
  },
  {
   "cell_type": "code",
   "execution_count": 666,
   "id": "e24281e4",
   "metadata": {},
   "outputs": [
    {
     "name": "stdout",
     "output_type": "stream",
     "text": [
      "Les dix villes qui ont plus de musées\n",
      "Paris                    175\n",
      "Lyon                      33\n",
      "Marseille                 28\n",
      "Grenoble                  22\n",
      "Bordeaux                  20\n",
      "Toulouse                  20\n",
      "Nice                      16\n",
      "Strasbourg                16\n",
      "Rouen                     15\n",
      "Lille                     15\n",
      "Reims                     13\n",
      "Angers                    13\n",
      "Montpellier               13\n",
      "Aix-en-Provence           13\n",
      "Avignon                   11\n",
      "Dijon                     11\n",
      "Colmar                    11\n",
      "Perpignan                 10\n",
      "Tours                     10\n",
      "Besançon                  10\n",
      "Digne-les-Bains            9\n",
      "Nîmes                      9\n",
      "Auxerre                    9\n",
      "Saint-Étienne              9\n",
      "Nantes                     9\n",
      "Rochefort                  9\n",
      "Orléans                    9\n",
      "Rodez                      8\n",
      "Toulon                     8\n",
      "Mulhouse                   8\n",
      "Limoges                    8\n",
      "Monaco                     8\n",
      "Thiers                     8\n",
      "Cherbourg-en-Cotentin      8\n",
      "Commana                    8\n",
      "La Rochelle                8\n",
      "Compiègne                  7\n",
      "Nancy                      7\n",
      "Clermont-Ferrand           7\n",
      "Cholet                     7\n",
      "Blois                      7\n",
      "Chambéry                   7\n",
      "Chamonix-Mont-Blanc        7\n",
      "Versailles                 7\n",
      "Briançon                   7\n",
      "Tourcoing                  7\n",
      "Pernes-les-Fontaines       6\n",
      "Laval                      6\n",
      "Lourdes                    6\n",
      "Chantilly                  6\n",
      "Name: city, dtype: int64\n"
     ]
    }
   ],
   "source": [
    "museums_by_city = df.city.value_counts()[0:50]\n",
    "print(\"Les dix villes qui ont plus de musées\\n{}\".format(museums_by_city))"
   ]
  },
  {
   "cell_type": "markdown",
   "id": "cd09ca84",
   "metadata": {},
   "source": [
    "#### 3.-Quel est le nombre moyen de musées par ville ?"
   ]
  },
  {
   "cell_type": "code",
   "execution_count": 667,
   "id": "a5b768ab",
   "metadata": {},
   "outputs": [
    {
     "name": "stdout",
     "output_type": "stream",
     "text": [
      "Le nombre moyen de musée par ville est 1.647930283224401\n"
     ]
    }
   ],
   "source": [
    "meanMuseums_by_city = df.city.value_counts().mean()\n",
    "print(\"Le nombre moyen de musée par ville est {}\".format(meanMuseums_by_city))"
   ]
  },
  {
   "cell_type": "markdown",
   "id": "25651cab",
   "metadata": {},
   "source": [
    "#### 4.-Quel est le nombre médian de musées par ville ?"
   ]
  },
  {
   "cell_type": "code",
   "execution_count": 686,
   "id": "2def0b20",
   "metadata": {},
   "outputs": [
    {
     "name": "stdout",
     "output_type": "stream",
     "text": [
      "9.0\n"
     ]
    }
   ],
   "source": [
    "medianMuseum_by_city = museums_by_city.median()\n",
    "print(medianMuseum_by_city)"
   ]
  },
  {
   "cell_type": "markdown",
   "id": "e9ac6f0e",
   "metadata": {},
   "source": [
    "#### 5.-Comment sont répartis les musées par type (en pourcentage) ?"
   ]
  },
  {
   "cell_type": "code",
   "execution_count": 689,
   "id": "7e1932bc",
   "metadata": {},
   "outputs": [
    {
     "data": {
      "text/plain": [
       "osm:museum                                                                        0.575093\n",
       "osm:museum;type:ecomusee                                                          0.102327\n",
       "osm:museum;type:musee technique et industriel                                     0.051296\n",
       "osm:museum;type:musee d'histoire                                                  0.034902\n",
       "osm:museum;art:architecture                                                       0.031994\n",
       "osm:museum;art:prehistoire;type:musee archeologique                               0.022475\n",
       "osm:museum;type:musee de beaux-arts                                               0.018509\n",
       "osm:museum;type:musee d'art                                                       0.015071\n",
       "osm:museum;type:musee d'histoire naturelle                                        0.014543\n",
       "osm:museum;type:musee d'arts populaires                                           0.012163\n",
       "osm:museum;type:centre d'interpretation                                           0.010841\n",
       "osm:museum;gender:musee d'homme                                                   0.007403\n",
       "osm:museum;musee d'histoire                                                       0.006610\n",
       "osm:museum;type:musee de sciences                                                 0.005553\n",
       "osm:museum;art:art contemporain                                                   0.005553\n",
       "osm:museum;gender:musee d'homme;type:maison d'artiste                             0.005024\n",
       "osm:museum;type:musee d'histoire;type:musee d'art                                 0.005024\n",
       "osm:museum;art:art contemporain;type:musee de beaux-arts                          0.004495\n",
       "osm:museum;type:musee archeologique;art:antiquite                                 0.002909\n",
       "osm:museum;gender:musee d'homme;type:maison d'artiste;type:musee litteraire       0.002909\n",
       "osm:museum;type:musee technique et industriel;type:ecomusee                       0.002644\n",
       "osm:museum;type:musee d'artiste;gender:musee d'homme                              0.002380\n",
       "osm:museum;type:maison d'artiste;gender:musee d'homme                             0.002380\n",
       "osm:museum;art:art contemporain;type:centre d'art                                 0.002115\n",
       "osm:museum;gender:musee d'homme;type:atelier d'artiste                            0.002115\n",
       "osm:museum;type:maison d'artiste;type:musee litteraire;gender:musee d'homme       0.001851\n",
       "osm:museum;type:fondation;gender:musee d'homme                                    0.001851\n",
       "osm:museum;type:fondation                                                         0.001851\n",
       "osm:museum;art:art religieux;type:musee d'art                                     0.001586\n",
       "osm:museum;art:prehistoire                                                        0.001586\n",
       "osm:museum;type:musee d'art;type:musee d'arts populaires                          0.001586\n",
       "osm:museum;gender:musee de femme                                                  0.001586\n",
       "osm:museum;type:centre d'art                                                      0.001586\n",
       "osm:museum;type:musee archeologique;type:musee d'art                              0.001322\n",
       "osm:museum;type:maison d'artiste;type:musee de beaux-arts;gender:musee d'homme    0.001322\n",
       "osm:museum;type:musee d'artiste;gender:musee de femme                             0.001322\n",
       "osm:museum;gender:musee d'homme;type:musee litteraire                             0.001322\n",
       "osm:museum;type:maison d'artiste;gender:musee d'homme;type:musee litteraire       0.001058\n",
       "osm:museum;type:musee d'art;type:musee d'histoire                                 0.001058\n",
       "osm:museum;type:bibliotheque                                                      0.001058\n",
       "osm:museum;art:art contemporain;type:fondation                                    0.001058\n",
       "osm:museum;art:art moderne;type:musee de beaux-arts                               0.001058\n",
       "osm:museum;continent:art asiatique;type:musee de beaux-arts                       0.001058\n",
       "osm:museum;type:musee litteraire                                                  0.001058\n",
       "osm:museum;art:art moderne;art:art contemporain;type:musee de beaux-arts          0.001058\n",
       "osm:museum;art:art contemporain;gender:musee d'homme                              0.000793\n",
       "osm:museum;art:antiquite                                                          0.000793\n",
       "osm:museum;type:musee de beaux-arts;gender:musee d'homme                          0.000793\n",
       "osm:museum;type:musee d'arts populaires;art:art populaire                         0.000793\n",
       "osm:museum;type:musee ethnographique                                              0.000793\n",
       "Name: tags, dtype: float64"
      ]
     },
     "metadata": {},
     "output_type": "display_data"
    }
   ],
   "source": [
    "display(df['tags'].value_counts(normalize=True)[0:50])"
   ]
  },
  {
   "cell_type": "markdown",
   "id": "c586a0f5",
   "metadata": {},
   "source": [
    "#### 6.-Combien y-a-t-il de musées dont le nom commence par \"Château\" ?"
   ]
  },
  {
   "cell_type": "code",
   "execution_count": 691,
   "id": "f288ca09",
   "metadata": {},
   "outputs": [
    {
     "data": {
      "text/plain": [
       "False    3783\n",
       "True        1\n",
       "Name: name, dtype: int64"
      ]
     },
     "execution_count": 691,
     "metadata": {},
     "output_type": "execute_result"
    }
   ],
   "source": [
    "ds = df[\"name\"] == \"Château\"\n",
    "ds.value_counts()"
   ]
  },
  {
   "cell_type": "code",
   "execution_count": 692,
   "id": "7aacf104",
   "metadata": {},
   "outputs": [],
   "source": [
    "# Deuxième méthode\n",
    "def nombre_occurence(L,a):\n",
    "    i=0\n",
    "    for x in L:\n",
    "        if (x== \"Château\"):\n",
    "            i =i+1\n",
    "    return i"
   ]
  },
  {
   "cell_type": "code",
   "execution_count": 693,
   "id": "2611b720",
   "metadata": {},
   "outputs": [
    {
     "name": "stdout",
     "output_type": "stream",
     "text": [
      "Le nombre d'occurence de Château est : 1\n"
     ]
    }
   ],
   "source": [
    "print(\"Le nombre d'occurence de Château est :\",nombre_occurence(name,\"Château\"))"
   ]
  },
  {
   "cell_type": "markdown",
   "id": "250a8ea0",
   "metadata": {},
   "source": [
    "#### 7.- Pour combien de musées dispose-t-on de l'adresse du site web ?"
   ]
  },
  {
   "cell_type": "code",
   "execution_count": 694,
   "id": "72ac3a5e",
   "metadata": {},
   "outputs": [
    {
     "data": {
      "text/plain": [
       "Index(['osm_id', 'name', 'number', 'street', 'postal_code', 'city', 'country',\n",
       "       'country_code', 'lat', 'lon', 'website', 'email', 'phone', 'fax',\n",
       "       'tags', 'description', 'date_added', 'wikidata'],\n",
       "      dtype='object')"
      ]
     },
     "execution_count": 694,
     "metadata": {},
     "output_type": "execute_result"
    }
   ],
   "source": [
    "df.columns"
   ]
  },
  {
   "cell_type": "code",
   "execution_count": 695,
   "id": "04f684e6",
   "metadata": {},
   "outputs": [
    {
     "name": "stdout",
     "output_type": "stream",
     "text": [
      " Le nombre de musées qui disposent de website est de 1636\n"
     ]
    }
   ],
   "source": [
    "Museum_with_website = df['website'].value_counts().sum()\n",
    "print(\" Le nombre de musées qui disposent de website est de {}\".format(Museum_with_website))"
   ]
  },
  {
   "cell_type": "markdown",
   "id": "a3e672f6",
   "metadata": {},
   "source": [
    "#### 8.-Quel département français possède le plus de musées sur son territoire ?"
   ]
  },
  {
   "cell_type": "code",
   "execution_count": 696,
   "id": "49908ca6",
   "metadata": {},
   "outputs": [
    {
     "name": "stdout",
     "output_type": "stream",
     "text": [
      "75005\n"
     ]
    }
   ],
   "source": [
    "most_museums_by_dep = df.postal_code.value_counts().idxmax()\n",
    "print(int(most_museums_by_dep))"
   ]
  },
  {
   "cell_type": "markdown",
   "id": "2856949c",
   "metadata": {},
   "source": [
    "#### 9.- Quel département français possède le moins de musées sur son territoire ?"
   ]
  },
  {
   "cell_type": "code",
   "execution_count": 697,
   "id": "50149a51",
   "metadata": {},
   "outputs": [
    {
     "name": "stdout",
     "output_type": "stream",
     "text": [
      "56630\n"
     ]
    }
   ],
   "source": [
    "less_museums_by_dep = df.postal_code.value_counts().idxmin()\n",
    "print(int(less_museums_by_dep))"
   ]
  },
  {
   "cell_type": "markdown",
   "id": "3fbd44c9",
   "metadata": {},
   "source": [
    "#### 10.-Combien de musées ont \"Napoléon\" dans leur nom ?"
   ]
  },
  {
   "cell_type": "code",
   "execution_count": 698,
   "id": "24360608",
   "metadata": {},
   "outputs": [],
   "source": [
    "def nombre_occurence(L,a):\n",
    "    i=0\n",
    "    for x in L:\n",
    "        if (x== \"Napoléon\"):\n",
    "            i =i+1\n",
    "    return i"
   ]
  },
  {
   "cell_type": "code",
   "execution_count": 699,
   "id": "0aa01453",
   "metadata": {},
   "outputs": [
    {
     "name": "stdout",
     "output_type": "stream",
     "text": [
      "Le nombre d'occurence de Napoléon est : 0\n"
     ]
    }
   ],
   "source": [
    "print(\"Le nombre d'occurence de Napoléon est :\",nombre_occurence(name,\"Napoléon\"))"
   ]
  },
  {
   "cell_type": "code",
   "execution_count": 701,
   "id": "c1c30c3b",
   "metadata": {},
   "outputs": [
    {
     "data": {
      "text/plain": [
       "False    3784\n",
       "Name: name, dtype: int64"
      ]
     },
     "execution_count": 701,
     "metadata": {},
     "output_type": "execute_result"
    }
   ],
   "source": [
    "# 2e méthode\n",
    "ds = df[\"name\"] == \"Napoléon\"\n",
    "ds.value_counts()"
   ]
  },
  {
   "cell_type": "code",
   "execution_count": null,
   "id": "4b717b25",
   "metadata": {},
   "outputs": [],
   "source": []
  }
 ],
 "metadata": {
  "kernelspec": {
   "display_name": "Python 3 (ipykernel)",
   "language": "python",
   "name": "python3"
  },
  "language_info": {
   "codemirror_mode": {
    "name": "ipython",
    "version": 3
   },
   "file_extension": ".py",
   "mimetype": "text/x-python",
   "name": "python",
   "nbconvert_exporter": "python",
   "pygments_lexer": "ipython3",
   "version": "3.9.12"
  }
 },
 "nbformat": 4,
 "nbformat_minor": 5
}
