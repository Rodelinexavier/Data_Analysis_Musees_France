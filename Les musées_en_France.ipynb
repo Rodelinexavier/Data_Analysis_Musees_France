{
 "cells": [
  {
   "cell_type": "code",
   "execution_count": 32,
   "id": "33bcd321",
   "metadata": {},
   "outputs": [],
   "source": [
    "# Libraries utilisées\n",
    "\n",
    "import pandas as pd\n",
    "import warnings\n",
    "warnings.filterwarnings(\"ignore\")"
   ]
  },
  {
   "cell_type": "code",
   "execution_count": 33,
   "id": "1fdcd77b",
   "metadata": {},
   "outputs": [
    {
     "data": {
      "text/html": [
       "<div>\n",
       "<style scoped>\n",
       "    .dataframe tbody tr th:only-of-type {\n",
       "        vertical-align: middle;\n",
       "    }\n",
       "\n",
       "    .dataframe tbody tr th {\n",
       "        vertical-align: top;\n",
       "    }\n",
       "\n",
       "    .dataframe thead th {\n",
       "        text-align: right;\n",
       "    }\n",
       "</style>\n",
       "<table border=\"1\" class=\"dataframe\">\n",
       "  <thead>\n",
       "    <tr style=\"text-align: right;\">\n",
       "      <th></th>\n",
       "      <th>osm_id</th>\n",
       "      <th>name</th>\n",
       "      <th>number</th>\n",
       "      <th>street</th>\n",
       "      <th>postal_code</th>\n",
       "      <th>city</th>\n",
       "      <th>country</th>\n",
       "      <th>country_code</th>\n",
       "      <th>lat</th>\n",
       "      <th>lon</th>\n",
       "      <th>website</th>\n",
       "      <th>email</th>\n",
       "      <th>phone</th>\n",
       "      <th>fax</th>\n",
       "      <th>tags</th>\n",
       "      <th>description</th>\n",
       "      <th>date_added</th>\n",
       "      <th>wikidata</th>\n",
       "    </tr>\n",
       "  </thead>\n",
       "  <tbody>\n",
       "    <tr>\n",
       "      <th>0</th>\n",
       "      <td>4540234591</td>\n",
       "      <td>3 bis f</td>\n",
       "      <td>109</td>\n",
       "      <td>Avenue du Petit Barthélémy</td>\n",
       "      <td>13617.0</td>\n",
       "      <td>Aix-en-Provence</td>\n",
       "      <td>France</td>\n",
       "      <td>fr</td>\n",
       "      <td>43.521207</td>\n",
       "      <td>5.439875</td>\n",
       "      <td>http://www.3bisf.com</td>\n",
       "      <td>contact@3bisf.com</td>\n",
       "      <td>33442161775</td>\n",
       "      <td>NaN</td>\n",
       "      <td>osm:museum;art:art contemporain</td>\n",
       "      <td>NaN</td>\n",
       "      <td>44116,00764</td>\n",
       "      <td>NaN</td>\n",
       "    </tr>\n",
       "    <tr>\n",
       "      <th>1</th>\n",
       "      <td>4388745689</td>\n",
       "      <td>A casa di Losari</td>\n",
       "      <td>NaN</td>\n",
       "      <td>T 30</td>\n",
       "      <td>20226.0</td>\n",
       "      <td>Belgodère</td>\n",
       "      <td>France</td>\n",
       "      <td>fr</td>\n",
       "      <td>42.638732</td>\n",
       "      <td>9.007660</td>\n",
       "      <td>NaN</td>\n",
       "      <td>NaN</td>\n",
       "      <td>NaN</td>\n",
       "      <td>NaN</td>\n",
       "      <td>osm:museum</td>\n",
       "      <td>NaN</td>\n",
       "      <td>43338,9394</td>\n",
       "      <td>NaN</td>\n",
       "    </tr>\n",
       "    <tr>\n",
       "      <th>2</th>\n",
       "      <td>4426176194</td>\n",
       "      <td>À l'homme volant</td>\n",
       "      <td>35</td>\n",
       "      <td>Grande Rue</td>\n",
       "      <td>72300.0</td>\n",
       "      <td>Sablé-sur-Sarthe</td>\n",
       "      <td>France</td>\n",
       "      <td>fr</td>\n",
       "      <td>47.839656</td>\n",
       "      <td>-0.334043</td>\n",
       "      <td>NaN</td>\n",
       "      <td>NaN</td>\n",
       "      <td>33243950736</td>\n",
       "      <td>NaN</td>\n",
       "      <td>osm:museum;type:centre d'interpretation</td>\n",
       "      <td>NaN</td>\n",
       "      <td>42644,46366</td>\n",
       "      <td>NaN</td>\n",
       "    </tr>\n",
       "    <tr>\n",
       "      <th>3</th>\n",
       "      <td>7652598615</td>\n",
       "      <td>Abbadiale - Maison des arts</td>\n",
       "      <td>NaN</td>\n",
       "      <td>Rue du Gabizos</td>\n",
       "      <td>65400.0</td>\n",
       "      <td>Arras-en-Lavedan</td>\n",
       "      <td>France</td>\n",
       "      <td>fr</td>\n",
       "      <td>42.990826</td>\n",
       "      <td>-0.128057</td>\n",
       "      <td>https://www.abbadiale.fr/</td>\n",
       "      <td>NaN</td>\n",
       "      <td>33633170714</td>\n",
       "      <td>NaN</td>\n",
       "      <td>osm:museum</td>\n",
       "      <td>NaN</td>\n",
       "      <td>44120,04668</td>\n",
       "      <td>NaN</td>\n",
       "    </tr>\n",
       "    <tr>\n",
       "      <th>4</th>\n",
       "      <td>121580330</td>\n",
       "      <td>Abbaye</td>\n",
       "      <td>NaN</td>\n",
       "      <td>Rue de l'Abbaye</td>\n",
       "      <td>39210.0</td>\n",
       "      <td>Château-Chalon</td>\n",
       "      <td>France</td>\n",
       "      <td>fr</td>\n",
       "      <td>46.753866</td>\n",
       "      <td>5.624296</td>\n",
       "      <td>NaN</td>\n",
       "      <td>NaN</td>\n",
       "      <td>NaN</td>\n",
       "      <td>NaN</td>\n",
       "      <td>osm:museum;art:architecture</td>\n",
       "      <td>NaN</td>\n",
       "      <td>43102,54919</td>\n",
       "      <td>NaN</td>\n",
       "    </tr>\n",
       "  </tbody>\n",
       "</table>\n",
       "</div>"
      ],
      "text/plain": [
       "       osm_id                         name number                      street  \\\n",
       "0  4540234591                      3 bis f    109  Avenue du Petit Barthélémy   \n",
       "1  4388745689             A casa di Losari    NaN                        T 30   \n",
       "2  4426176194             À l'homme volant     35                  Grande Rue   \n",
       "3  7652598615  Abbadiale - Maison des arts    NaN              Rue du Gabizos   \n",
       "4   121580330                       Abbaye    NaN             Rue de l'Abbaye   \n",
       "\n",
       "   postal_code              city country country_code        lat       lon  \\\n",
       "0      13617.0   Aix-en-Provence  France           fr  43.521207  5.439875   \n",
       "1      20226.0         Belgodère  France           fr  42.638732  9.007660   \n",
       "2      72300.0  Sablé-sur-Sarthe  France           fr  47.839656 -0.334043   \n",
       "3      65400.0  Arras-en-Lavedan  France           fr  42.990826 -0.128057   \n",
       "4      39210.0    Château-Chalon  France           fr  46.753866  5.624296   \n",
       "\n",
       "                     website              email        phone  fax  \\\n",
       "0       http://www.3bisf.com  contact@3bisf.com  33442161775  NaN   \n",
       "1                        NaN                NaN          NaN  NaN   \n",
       "2                        NaN                NaN  33243950736  NaN   \n",
       "3  https://www.abbadiale.fr/                NaN  33633170714  NaN   \n",
       "4                        NaN                NaN          NaN  NaN   \n",
       "\n",
       "                                      tags description   date_added wikidata  \n",
       "0          osm:museum;art:art contemporain         NaN  44116,00764      NaN  \n",
       "1                               osm:museum         NaN   43338,9394      NaN  \n",
       "2  osm:museum;type:centre d'interpretation         NaN  42644,46366      NaN  \n",
       "3                               osm:museum         NaN  44120,04668      NaN  \n",
       "4              osm:museum;art:architecture         NaN  43102,54919      NaN  "
      ]
     },
     "execution_count": 33,
     "metadata": {},
     "output_type": "execute_result"
    }
   ],
   "source": [
    "# Importer le dataset\n",
    "df = pd.read_csv('liste-des-musees-de-france-2021.csv',error_bad_lines=False,encoding='latin-1',sep=';')\n",
    "df.head()"
   ]
  },
  {
   "cell_type": "code",
   "execution_count": 34,
   "id": "96384ec6",
   "metadata": {},
   "outputs": [
    {
     "data": {
      "text/plain": [
       "(3784, 18)"
      ]
     },
     "execution_count": 34,
     "metadata": {},
     "output_type": "execute_result"
    }
   ],
   "source": [
    "# Nombres d'observations et de colonnes\n",
    "df.shape"
   ]
  },
  {
   "cell_type": "markdown",
   "id": "a2d02200",
   "metadata": {},
   "source": [
    " * Le dataset contient 18 colonnes et 3784 lignes."
   ]
  },
  {
   "cell_type": "code",
   "execution_count": 35,
   "id": "0c641a6d",
   "metadata": {},
   "outputs": [
    {
     "name": "stdout",
     "output_type": "stream",
     "text": [
      "<class 'pandas.core.frame.DataFrame'>\n",
      "RangeIndex: 3784 entries, 0 to 3783\n",
      "Data columns (total 18 columns):\n",
      " #   Column        Non-Null Count  Dtype  \n",
      "---  ------        --------------  -----  \n",
      " 0   osm_id        3784 non-null   int64  \n",
      " 1   name          3784 non-null   object \n",
      " 2   number        743 non-null    object \n",
      " 3   street        3771 non-null   object \n",
      " 4   postal_code   3728 non-null   float64\n",
      " 5   city          3782 non-null   object \n",
      " 6   country       3784 non-null   object \n",
      " 7   country_code  3784 non-null   object \n",
      " 8   lat           3784 non-null   float64\n",
      " 9   lon           3784 non-null   float64\n",
      " 10  website       1636 non-null   object \n",
      " 11  email         301 non-null    object \n",
      " 12  phone         1211 non-null   object \n",
      " 13  fax           0 non-null      float64\n",
      " 14  tags          3782 non-null   object \n",
      " 15  description   226 non-null    object \n",
      " 16  date_added    3775 non-null   object \n",
      " 17  wikidata      1147 non-null   object \n",
      "dtypes: float64(4), int64(1), object(13)\n",
      "memory usage: 532.2+ KB\n"
     ]
    }
   ],
   "source": [
    "# Informations sur les colonnes\n",
    "df.info()"
   ]
  },
  {
   "cell_type": "code",
   "execution_count": 37,
   "id": "fa33a591",
   "metadata": {},
   "outputs": [
    {
     "data": {
      "text/html": [
       "<div>\n",
       "<style scoped>\n",
       "    .dataframe tbody tr th:only-of-type {\n",
       "        vertical-align: middle;\n",
       "    }\n",
       "\n",
       "    .dataframe tbody tr th {\n",
       "        vertical-align: top;\n",
       "    }\n",
       "\n",
       "    .dataframe thead th {\n",
       "        text-align: right;\n",
       "    }\n",
       "</style>\n",
       "<table border=\"1\" class=\"dataframe\">\n",
       "  <thead>\n",
       "    <tr style=\"text-align: right;\">\n",
       "      <th></th>\n",
       "      <th>osm_id</th>\n",
       "      <th>name</th>\n",
       "      <th>number</th>\n",
       "      <th>street</th>\n",
       "      <th>postal_code</th>\n",
       "      <th>city</th>\n",
       "      <th>country</th>\n",
       "      <th>country_code</th>\n",
       "      <th>lat</th>\n",
       "      <th>lon</th>\n",
       "      <th>website</th>\n",
       "      <th>email</th>\n",
       "      <th>phone</th>\n",
       "      <th>fax</th>\n",
       "      <th>tags</th>\n",
       "      <th>description</th>\n",
       "      <th>date_added</th>\n",
       "      <th>wikidata</th>\n",
       "    </tr>\n",
       "  </thead>\n",
       "  <tbody>\n",
       "    <tr>\n",
       "      <th>count</th>\n",
       "      <td>3.784000e+03</td>\n",
       "      <td>3784</td>\n",
       "      <td>743</td>\n",
       "      <td>3771</td>\n",
       "      <td>3728.000000</td>\n",
       "      <td>3782</td>\n",
       "      <td>3784</td>\n",
       "      <td>3784</td>\n",
       "      <td>3784.000000</td>\n",
       "      <td>3784.000000</td>\n",
       "      <td>1636</td>\n",
       "      <td>301</td>\n",
       "      <td>1211</td>\n",
       "      <td>0.0</td>\n",
       "      <td>3782</td>\n",
       "      <td>226</td>\n",
       "      <td>3775</td>\n",
       "      <td>1147</td>\n",
       "    </tr>\n",
       "    <tr>\n",
       "      <th>unique</th>\n",
       "      <td>NaN</td>\n",
       "      <td>3466</td>\n",
       "      <td>196</td>\n",
       "      <td>2932</td>\n",
       "      <td>NaN</td>\n",
       "      <td>2295</td>\n",
       "      <td>2</td>\n",
       "      <td>2</td>\n",
       "      <td>NaN</td>\n",
       "      <td>NaN</td>\n",
       "      <td>1585</td>\n",
       "      <td>295</td>\n",
       "      <td>1163</td>\n",
       "      <td>NaN</td>\n",
       "      <td>119</td>\n",
       "      <td>206</td>\n",
       "      <td>3331</td>\n",
       "      <td>1133</td>\n",
       "    </tr>\n",
       "    <tr>\n",
       "      <th>top</th>\n",
       "      <td>NaN</td>\n",
       "      <td>Musée des Beaux-Arts</td>\n",
       "      <td>1</td>\n",
       "      <td>Grande Rue</td>\n",
       "      <td>NaN</td>\n",
       "      <td>Paris</td>\n",
       "      <td>France</td>\n",
       "      <td>fr</td>\n",
       "      <td>NaN</td>\n",
       "      <td>NaN</td>\n",
       "      <td>http://www.ville-orleans.fr</td>\n",
       "      <td>musees@ville.angers.fr</td>\n",
       "      <td>33325868686</td>\n",
       "      <td>NaN</td>\n",
       "      <td>osm:museum</td>\n",
       "      <td>Ecomusée</td>\n",
       "      <td>43940,5849</td>\n",
       "      <td>Q3329951</td>\n",
       "    </tr>\n",
       "    <tr>\n",
       "      <th>freq</th>\n",
       "      <td>NaN</td>\n",
       "      <td>23</td>\n",
       "      <td>73</td>\n",
       "      <td>34</td>\n",
       "      <td>NaN</td>\n",
       "      <td>175</td>\n",
       "      <td>3776</td>\n",
       "      <td>3776</td>\n",
       "      <td>NaN</td>\n",
       "      <td>NaN</td>\n",
       "      <td>4</td>\n",
       "      <td>3</td>\n",
       "      <td>4</td>\n",
       "      <td>NaN</td>\n",
       "      <td>2175</td>\n",
       "      <td>19</td>\n",
       "      <td>76</td>\n",
       "      <td>2</td>\n",
       "    </tr>\n",
       "    <tr>\n",
       "      <th>mean</th>\n",
       "      <td>2.193306e+09</td>\n",
       "      <td>NaN</td>\n",
       "      <td>NaN</td>\n",
       "      <td>NaN</td>\n",
       "      <td>48499.273069</td>\n",
       "      <td>NaN</td>\n",
       "      <td>NaN</td>\n",
       "      <td>NaN</td>\n",
       "      <td>46.531075</td>\n",
       "      <td>2.724237</td>\n",
       "      <td>NaN</td>\n",
       "      <td>NaN</td>\n",
       "      <td>NaN</td>\n",
       "      <td>NaN</td>\n",
       "      <td>NaN</td>\n",
       "      <td>NaN</td>\n",
       "      <td>NaN</td>\n",
       "      <td>NaN</td>\n",
       "    </tr>\n",
       "    <tr>\n",
       "      <th>std</th>\n",
       "      <td>2.521168e+09</td>\n",
       "      <td>NaN</td>\n",
       "      <td>NaN</td>\n",
       "      <td>NaN</td>\n",
       "      <td>27982.341434</td>\n",
       "      <td>NaN</td>\n",
       "      <td>NaN</td>\n",
       "      <td>NaN</td>\n",
       "      <td>2.234572</td>\n",
       "      <td>2.897485</td>\n",
       "      <td>NaN</td>\n",
       "      <td>NaN</td>\n",
       "      <td>NaN</td>\n",
       "      <td>NaN</td>\n",
       "      <td>NaN</td>\n",
       "      <td>NaN</td>\n",
       "      <td>NaN</td>\n",
       "      <td>NaN</td>\n",
       "    </tr>\n",
       "    <tr>\n",
       "      <th>min</th>\n",
       "      <td>5.107373e+06</td>\n",
       "      <td>NaN</td>\n",
       "      <td>NaN</td>\n",
       "      <td>NaN</td>\n",
       "      <td>1000.000000</td>\n",
       "      <td>NaN</td>\n",
       "      <td>NaN</td>\n",
       "      <td>NaN</td>\n",
       "      <td>41.498794</td>\n",
       "      <td>-5.129406</td>\n",
       "      <td>NaN</td>\n",
       "      <td>NaN</td>\n",
       "      <td>NaN</td>\n",
       "      <td>NaN</td>\n",
       "      <td>NaN</td>\n",
       "      <td>NaN</td>\n",
       "      <td>NaN</td>\n",
       "      <td>NaN</td>\n",
       "    </tr>\n",
       "    <tr>\n",
       "      <th>25%</th>\n",
       "      <td>1.451896e+08</td>\n",
       "      <td>NaN</td>\n",
       "      <td>NaN</td>\n",
       "      <td>NaN</td>\n",
       "      <td>25582.500000</td>\n",
       "      <td>NaN</td>\n",
       "      <td>NaN</td>\n",
       "      <td>NaN</td>\n",
       "      <td>44.542494</td>\n",
       "      <td>0.570318</td>\n",
       "      <td>NaN</td>\n",
       "      <td>NaN</td>\n",
       "      <td>NaN</td>\n",
       "      <td>NaN</td>\n",
       "      <td>NaN</td>\n",
       "      <td>NaN</td>\n",
       "      <td>NaN</td>\n",
       "      <td>NaN</td>\n",
       "    </tr>\n",
       "    <tr>\n",
       "      <th>50%</th>\n",
       "      <td>8.226927e+08</td>\n",
       "      <td>NaN</td>\n",
       "      <td>NaN</td>\n",
       "      <td>NaN</td>\n",
       "      <td>49730.000000</td>\n",
       "      <td>NaN</td>\n",
       "      <td>NaN</td>\n",
       "      <td>NaN</td>\n",
       "      <td>46.513252</td>\n",
       "      <td>2.563655</td>\n",
       "      <td>NaN</td>\n",
       "      <td>NaN</td>\n",
       "      <td>NaN</td>\n",
       "      <td>NaN</td>\n",
       "      <td>NaN</td>\n",
       "      <td>NaN</td>\n",
       "      <td>NaN</td>\n",
       "      <td>NaN</td>\n",
       "    </tr>\n",
       "    <tr>\n",
       "      <th>75%</th>\n",
       "      <td>3.982632e+09</td>\n",
       "      <td>NaN</td>\n",
       "      <td>NaN</td>\n",
       "      <td>NaN</td>\n",
       "      <td>71570.000000</td>\n",
       "      <td>NaN</td>\n",
       "      <td>NaN</td>\n",
       "      <td>NaN</td>\n",
       "      <td>48.639156</td>\n",
       "      <td>4.984839</td>\n",
       "      <td>NaN</td>\n",
       "      <td>NaN</td>\n",
       "      <td>NaN</td>\n",
       "      <td>NaN</td>\n",
       "      <td>NaN</td>\n",
       "      <td>NaN</td>\n",
       "      <td>NaN</td>\n",
       "      <td>NaN</td>\n",
       "    </tr>\n",
       "    <tr>\n",
       "      <th>max</th>\n",
       "      <td>8.394269e+09</td>\n",
       "      <td>NaN</td>\n",
       "      <td>NaN</td>\n",
       "      <td>NaN</td>\n",
       "      <td>590007.000000</td>\n",
       "      <td>NaN</td>\n",
       "      <td>NaN</td>\n",
       "      <td>NaN</td>\n",
       "      <td>51.053756</td>\n",
       "      <td>9.488302</td>\n",
       "      <td>NaN</td>\n",
       "      <td>NaN</td>\n",
       "      <td>NaN</td>\n",
       "      <td>NaN</td>\n",
       "      <td>NaN</td>\n",
       "      <td>NaN</td>\n",
       "      <td>NaN</td>\n",
       "      <td>NaN</td>\n",
       "    </tr>\n",
       "  </tbody>\n",
       "</table>\n",
       "</div>"
      ],
      "text/plain": [
       "              osm_id                  name number      street    postal_code  \\\n",
       "count   3.784000e+03                  3784    743        3771    3728.000000   \n",
       "unique           NaN                  3466    196        2932            NaN   \n",
       "top              NaN  Musée des Beaux-Arts      1  Grande Rue            NaN   \n",
       "freq             NaN                    23     73          34            NaN   \n",
       "mean    2.193306e+09                   NaN    NaN         NaN   48499.273069   \n",
       "std     2.521168e+09                   NaN    NaN         NaN   27982.341434   \n",
       "min     5.107373e+06                   NaN    NaN         NaN    1000.000000   \n",
       "25%     1.451896e+08                   NaN    NaN         NaN   25582.500000   \n",
       "50%     8.226927e+08                   NaN    NaN         NaN   49730.000000   \n",
       "75%     3.982632e+09                   NaN    NaN         NaN   71570.000000   \n",
       "max     8.394269e+09                   NaN    NaN         NaN  590007.000000   \n",
       "\n",
       "         city country country_code          lat          lon  \\\n",
       "count    3782    3784         3784  3784.000000  3784.000000   \n",
       "unique   2295       2            2          NaN          NaN   \n",
       "top     Paris  France           fr          NaN          NaN   \n",
       "freq      175    3776         3776          NaN          NaN   \n",
       "mean      NaN     NaN          NaN    46.531075     2.724237   \n",
       "std       NaN     NaN          NaN     2.234572     2.897485   \n",
       "min       NaN     NaN          NaN    41.498794    -5.129406   \n",
       "25%       NaN     NaN          NaN    44.542494     0.570318   \n",
       "50%       NaN     NaN          NaN    46.513252     2.563655   \n",
       "75%       NaN     NaN          NaN    48.639156     4.984839   \n",
       "max       NaN     NaN          NaN    51.053756     9.488302   \n",
       "\n",
       "                            website                   email        phone  fax  \\\n",
       "count                          1636                     301         1211  0.0   \n",
       "unique                         1585                     295         1163  NaN   \n",
       "top     http://www.ville-orleans.fr  musees@ville.angers.fr  33325868686  NaN   \n",
       "freq                              4                       3            4  NaN   \n",
       "mean                            NaN                     NaN          NaN  NaN   \n",
       "std                             NaN                     NaN          NaN  NaN   \n",
       "min                             NaN                     NaN          NaN  NaN   \n",
       "25%                             NaN                     NaN          NaN  NaN   \n",
       "50%                             NaN                     NaN          NaN  NaN   \n",
       "75%                             NaN                     NaN          NaN  NaN   \n",
       "max                             NaN                     NaN          NaN  NaN   \n",
       "\n",
       "              tags description  date_added  wikidata  \n",
       "count         3782         226        3775      1147  \n",
       "unique         119         206        3331      1133  \n",
       "top     osm:museum    Ecomusée  43940,5849  Q3329951  \n",
       "freq          2175          19          76         2  \n",
       "mean           NaN         NaN         NaN       NaN  \n",
       "std            NaN         NaN         NaN       NaN  \n",
       "min            NaN         NaN         NaN       NaN  \n",
       "25%            NaN         NaN         NaN       NaN  \n",
       "50%            NaN         NaN         NaN       NaN  \n",
       "75%            NaN         NaN         NaN       NaN  \n",
       "max            NaN         NaN         NaN       NaN  "
      ]
     },
     "execution_count": 37,
     "metadata": {},
     "output_type": "execute_result"
    }
   ],
   "source": [
    "# Statistiques de base\n",
    "df.describe(include=\"all\")"
   ]
  },
  {
   "cell_type": "markdown",
   "id": "8f90bb64",
   "metadata": {},
   "source": [
    "#### 1.-Combien y-a-t-il de musées en France métropolitaine ?"
   ]
  },
  {
   "cell_type": "code",
   "execution_count": 54,
   "id": "6d526072",
   "metadata": {},
   "outputs": [
    {
     "name": "stdout",
     "output_type": "stream",
     "text": [
      "\n",
      "Il y a 3784 musées en France Métropolitaine\n"
     ]
    }
   ],
   "source": [
    "nombre_musees_france = df[\"name\"].value_counts().sum()\n",
    "print()\n",
    "print(\"Il y a {} musées en France Métropolitaine\".format(nombre_musees_france))"
   ]
  },
  {
   "cell_type": "markdown",
   "id": "af1421c2",
   "metadata": {},
   "source": [
    "#### 2.-Dans quelle(s) ville(s) y-a-t-il de plus de musées ?"
   ]
  },
  {
   "cell_type": "code",
   "execution_count": 58,
   "id": "6a220789",
   "metadata": {},
   "outputs": [
    {
     "name": "stdout",
     "output_type": "stream",
     "text": [
      "Paris est la ville ayant plus de musées, elle en contient 175 musées.\n"
     ]
    }
   ],
   "source": [
    "museums_city = df.city.value_counts()[0:1]\n",
    "print(\"Paris est la ville ayant plus de musées, elle en contient 175 musées.\")"
   ]
  },
  {
   "cell_type": "markdown",
   "id": "f1d9afa4",
   "metadata": {},
   "source": [
    "#### 3.-Quel est le nombre moyen de musées par ville ?"
   ]
  },
  {
   "cell_type": "code",
   "execution_count": 43,
   "id": "73587c36",
   "metadata": {},
   "outputs": [
    {
     "name": "stdout",
     "output_type": "stream",
     "text": [
      "Les villes françaises ont, en moyenne, 1.65 musées.\n"
     ]
    }
   ],
   "source": [
    "mean_museums_by_city = df['city'].value_counts().mean()\n",
    "print(\"Les villes françaises ont, en moyenne, {0:.2f} musées.\".format(mean_museums_by_city))"
   ]
  },
  {
   "cell_type": "markdown",
   "id": "c4792286",
   "metadata": {},
   "source": [
    "#### 4.-Quel est le nombre médian de musées par ville ?"
   ]
  },
  {
   "cell_type": "code",
   "execution_count": 44,
   "id": "93fbf351",
   "metadata": {},
   "outputs": [
    {
     "name": "stdout",
     "output_type": "stream",
     "text": [
      "Le nombre median de musées par ville est de 1.00.\n"
     ]
    }
   ],
   "source": [
    "median_museum_by_city = df['city'].value_counts().median()\n",
    "print(\"Le nombre median de musées par ville est de {0:.2f}.\".format(median_museum_by_city))"
   ]
  },
  {
   "cell_type": "markdown",
   "id": "04bb42b8",
   "metadata": {},
   "source": [
    "#### 5.-Comment sont répartis les musées par type (en pourcentage) ?"
   ]
  },
  {
   "cell_type": "code",
   "execution_count": 64,
   "id": "f0252bbc",
   "metadata": {},
   "outputs": [
    {
     "name": "stdout",
     "output_type": "stream",
     "text": [
      "La repartition des musées par type:\n",
      "osm:museum                                  58.0\n",
      "type:ecomusee                               10.0\n",
      "type:musee technique et industriel           5.0\n",
      "type:musee d'histoire                        3.0\n",
      "art:architecture                             3.0\n",
      "art:prehistoire;type:musee archeologique     2.0\n",
      "type:musee de beaux-arts                     2.0\n",
      "type:musee d'art                             2.0\n",
      "type:musee d'histoire naturelle              1.0\n",
      "type:musee d'arts populaires                 1.0\n",
      "Name: tags, dtype: float64\n"
     ]
    }
   ],
   "source": [
    "repartition = df['tags'].str.replace('osm:museum;','')\n",
    "repartition = 100*repartition.value_counts(normalize=True).sort_values(ascending=False).round(2)\n",
    "print(\"La repartition des musées par type:\\n{}\".format(repartition.head(10)))"
   ]
  },
  {
   "cell_type": "markdown",
   "id": "6c113044",
   "metadata": {},
   "source": [
    "#### 6.-Combien y-a-t-il de musées dont le nom commence par \"Château\" ?"
   ]
  },
  {
   "cell_type": "code",
   "execution_count": 46,
   "id": "2f7c3b98",
   "metadata": {},
   "outputs": [
    {
     "name": "stdout",
     "output_type": "stream",
     "text": [
      "True       57\n",
      "False    3727\n",
      "Name: name, dtype: int64\n"
     ]
    }
   ],
   "source": [
    "musee_chateau = df['name'].str.startswith('Château').value_counts().sort_values(ascending=True)\n",
    "print(musee_chateau)"
   ]
  },
  {
   "cell_type": "markdown",
   "id": "7116a350",
   "metadata": {},
   "source": [
    "* Il y a 57 musées dont leur nom commence par 'Château'."
   ]
  },
  {
   "cell_type": "markdown",
   "id": "eb6fef7d",
   "metadata": {},
   "source": [
    "#### 7.- Pour combien de musées dispose-t-on de l'adresse du site web ?"
   ]
  },
  {
   "cell_type": "code",
   "execution_count": 66,
   "id": "45c71f61",
   "metadata": {},
   "outputs": [
    {
     "name": "stdout",
     "output_type": "stream",
     "text": [
      "Parmi les musées, 1636 d'entre eux ont des website.\n"
     ]
    }
   ],
   "source": [
    "musees_website = df[\"website\"].value_counts().sum()\n",
    "print(\"Parmi les musées, {} d'entre eux ont des website.\".format(musees_website))"
   ]
  },
  {
   "cell_type": "markdown",
   "id": "8c29d177",
   "metadata": {},
   "source": [
    "#### 8.-Quel département français possède le plus de musées sur son territoire ?"
   ]
  },
  {
   "cell_type": "code",
   "execution_count": 48,
   "id": "348e127f",
   "metadata": {},
   "outputs": [
    {
     "data": {
      "text/plain": [
       "75005.0    24\n",
       "38000.0    21\n",
       "33000.0    16\n",
       "75007.0    16\n",
       "75004.0    15\n",
       "           ..\n",
       "33290.0     1\n",
       "9220.0      1\n",
       "22340.0     1\n",
       "34450.0     1\n",
       "45590.0     1\n",
       "Name: postal_code, Length: 2023, dtype: int64"
      ]
     },
     "execution_count": 48,
     "metadata": {},
     "output_type": "execute_result"
    }
   ],
   "source": [
    "df['postal_code'].value_counts()"
   ]
  },
  {
   "cell_type": "code",
   "execution_count": 49,
   "id": "87dc657e",
   "metadata": {},
   "outputs": [
    {
     "data": {
      "text/plain": [
       "'75'"
      ]
     },
     "execution_count": 49,
     "metadata": {},
     "output_type": "execute_result"
    }
   ],
   "source": [
    "df[\"departement\"] = df['postal_code'].astype(str).str[0:2]\n",
    "df['departement']\n",
    "df[\"departement\"].value_counts().idxmax()"
   ]
  },
  {
   "cell_type": "markdown",
   "id": "11096724",
   "metadata": {},
   "source": [
    "* Paris est le département français ayant plus de musées sur son territoire."
   ]
  },
  {
   "cell_type": "markdown",
   "id": "5f8ed370",
   "metadata": {},
   "source": [
    "#### 9.- Quel département français possède le moins de musées sur son territoire ?"
   ]
  },
  {
   "cell_type": "code",
   "execution_count": 50,
   "id": "953d3ce1",
   "metadata": {},
   "outputs": [
    {
     "data": {
      "text/plain": [
       "'98'"
      ]
     },
     "execution_count": 50,
     "metadata": {},
     "output_type": "execute_result"
    }
   ],
   "source": [
    "df[\"departement\"].value_counts().idxmin()"
   ]
  },
  {
   "cell_type": "markdown",
   "id": "ab1c4d72",
   "metadata": {},
   "source": [
    "* Les departement 98 (TOM) possèdent moins de musées sur leur territoire."
   ]
  },
  {
   "cell_type": "markdown",
   "id": "1d669c61",
   "metadata": {},
   "source": [
    "#### 10.-Combien de musées ont \"Napoléon\" dans leur nom ?"
   ]
  },
  {
   "cell_type": "code",
   "execution_count": 31,
   "id": "ba80fc4b",
   "metadata": {},
   "outputs": [
    {
     "name": "stdout",
     "output_type": "stream",
     "text": [
      "\n",
      "False    3780\n",
      "True        4\n",
      "Name: name, dtype: int64\n"
     ]
    }
   ],
   "source": [
    "musee_napoleon = df['name'].str.contains('Napoléon').value_counts()\n",
    "print()\n",
    "print(musee_napoleon)"
   ]
  },
  {
   "cell_type": "markdown",
   "id": "ec95fe69",
   "metadata": {},
   "source": [
    "* Il y a 4 musées qui ont 'Napoléon' dans leur nom."
   ]
  },
  {
   "cell_type": "markdown",
   "id": "6a24fbb7",
   "metadata": {},
   "source": [
    "## Recommandations"
   ]
  },
  {
   "cell_type": "markdown",
   "id": "483d59a3",
   "metadata": {},
   "source": [
    "* Analyse des fréquentations afin d'analyser les périodes de fortes fréquentations.\n",
    "* Analyse des profils sociologiques des visiteurs et leur provenance."
   ]
  },
  {
   "cell_type": "code",
   "execution_count": null,
   "id": "a5c19e7f",
   "metadata": {},
   "outputs": [],
   "source": []
  }
 ],
 "metadata": {
  "kernelspec": {
   "display_name": "Python 3 (ipykernel)",
   "language": "python",
   "name": "python3"
  },
  "language_info": {
   "codemirror_mode": {
    "name": "ipython",
    "version": 3
   },
   "file_extension": ".py",
   "mimetype": "text/x-python",
   "name": "python",
   "nbconvert_exporter": "python",
   "pygments_lexer": "ipython3",
   "version": "3.9.12"
  }
 },
 "nbformat": 4,
 "nbformat_minor": 5
}
